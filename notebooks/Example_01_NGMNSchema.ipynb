{
 "cells": [
  {
   "cell_type": "markdown",
   "id": "57db73fc",
   "metadata": {},
   "source": [
    "### Validate JSON files with the NGMNSchema"
   ]
  },
  {
   "cell_type": "code",
   "execution_count": null,
   "id": "c735e149",
   "metadata": {},
   "outputs": [],
   "source": [
    "from eas_3d_pattern import SAMPLE_JSON, AntennaPattern, NGMNSchema"
   ]
  },
  {
   "cell_type": "markdown",
   "id": "0348eea3",
   "metadata": {},
   "source": [
    "Check the NGMNSchema: It gets downloaded from the NGMN homepage when importing the package. https://www.ngmn.org/schema/basta/ \n",
    "\n",
    "If not available, there will be a fallback to the a local copy within the package."
   ]
  },
  {
   "cell_type": "code",
   "execution_count": 16,
   "id": "f63e5e3d",
   "metadata": {},
   "outputs": [
    {
     "data": {
      "text/plain": [
       "<SchemaManager(id=0x2210f177620, schema_loaded=True, source=Downloaded from URL (https://www.ngmn.org/schema/basta/NGMN_BASTA_AA_3drp_JSON_Schema_WP3_0_latest.json))>"
      ]
     },
     "execution_count": 16,
     "metadata": {},
     "output_type": "execute_result"
    }
   ],
   "source": [
    "NGMNSchema"
   ]
  },
  {
   "cell_type": "code",
   "execution_count": 17,
   "id": "73dcf58a",
   "metadata": {},
   "outputs": [
    {
     "data": {
      "text/plain": [
       "{'$schema': 'http://json-schema.org/draft/2020-12/schema#',\n",
       " 'type': 'object',\n",
       " 'properties': {'BASTA_AA_WP_version': {'type': 'string'},\n",
       "  'Supplier': {'type': 'string'},\n",
       "  'Antenna_Model': {'type': 'string'},\n",
       "  'Antenna_Type': {'type': 'string'},\n",
       "  'Revision_Version': {'type': 'string'},\n",
       "  'Released_Date': {'type': 'string', 'format': 'date'},\n",
       "  'Coordinate_System': {'type': 'string',\n",
       "   'enum': ['SPCS_Polar', 'SPCS_CW', 'SPCS_CCW', 'SPCS_Geo']},\n",
       "  'Pattern_Name': {'type': ['string', 'null']},\n",
       "  'Beam_ID': {'type': ['string', 'null']},\n",
       "  'Pattern_Type': {'type': 'string',\n",
       "   'enum': ['Broadcast Beam',\n",
       "    'Broadcast Configuration Envelope',\n",
       "    'Traffic Beam',\n",
       "    'Traffic Envelope',\n",
       "    'Uplink',\n",
       "    'Generic']},\n",
       "  'Frequency': {'type': 'object',\n",
       "   'properties': {'value': {'type': 'number', 'minimum': 0},\n",
       "    'unit': {'type': 'string', 'enum': ['Hz', 'kHz', 'MHz', 'GHz', 'THz']}},\n",
       "   'required': ['value', 'unit']},\n",
       "  'Frequency_Range': {'type': ['object', 'null'],\n",
       "   'properties': {'lower': {'type': 'number', 'minimum': 0},\n",
       "    'upper': {'type': 'number', 'minimum': 0},\n",
       "    'unit': {'type': 'string', 'enum': ['Hz', 'kHz', 'MHz', 'GHz', 'THz']}},\n",
       "   'required': ['lower', 'upper', 'unit']},\n",
       "  'EIRP': {'type': ['object', 'null'],\n",
       "   'properties': {'value': {'type': 'number'},\n",
       "    'unit': {'type': 'string', 'enum': ['mW', 'W', 'dBW', 'dBm']}},\n",
       "   'required': ['value', 'unit']},\n",
       "  'Configured_Output_Power': {'type': ['object', 'null'],\n",
       "   'properties': {'value': {'type': 'number'},\n",
       "    'unit': {'type': 'string', 'enum': ['mW', 'W', 'dBW', 'dBm']}},\n",
       "   'required': ['value', 'unit']},\n",
       "  'Gain': {'type': ['object', 'null'],\n",
       "   'properties': {'value': {'type': 'number'},\n",
       "    'unit': {'type': 'string', 'enum': ['dBi', 'dBd']}},\n",
       "   'required': ['value', 'unit']},\n",
       "  'Configuration': {'type': ['string', 'null']},\n",
       "  'RF_Port': {'type': ['string', 'null']},\n",
       "  'Array_ID': {'type': ['string', 'null']},\n",
       "  'Array_Position': {'type': ['string', 'null']},\n",
       "  'Phi_HPBW': {'type': 'number', 'exclusiveMinimum': 0},\n",
       "  'Theta_HPBW': {'type': 'number', 'exclusiveMinimum': 0},\n",
       "  'Front_to_Back': {'type': 'number', 'exclusiveMinimum': 0},\n",
       "  'Phi_Electrical_Pan': {'type': ['number', 'null']},\n",
       "  'Theta_Electrical_Tilt': {'type': ['number', 'null']},\n",
       "  'Nominal_Polarization': {'anyOf': [{'type': 'string',\n",
       "     'enum': ['Total',\n",
       "      'P45',\n",
       "      'M45',\n",
       "      'P45M45',\n",
       "      'M45P45',\n",
       "      'H',\n",
       "      'V',\n",
       "      'HV',\n",
       "      'VH',\n",
       "      'RHC',\n",
       "      'LHC']},\n",
       "    {'$comment': 'M### or P###M### for Negative|Positive ### degrees (### is an integer, max. 3 digits)',\n",
       "     'type': 'string',\n",
       "     'pattern': '^(P[0-9]{1,3})?M[0-9]{1,3}$'},\n",
       "    {'$comment': 'P### or M###P### for Positive|Negative ### degrees (### is an integer, max. 3 digits)',\n",
       "     'type': 'string',\n",
       "     'pattern': '^(M[0-9]{1,3})?P[0-9]{1,3}$'}]},\n",
       "  'Theta_Sampling': {'type': ['array', 'null'],\n",
       "   'minItems': 3,\n",
       "   'maxItems': 3,\n",
       "   'items': {'type': 'number'}},\n",
       "  'Phi_Sampling': {'type': ['array', 'null'],\n",
       "   'minItems': 3,\n",
       "   'maxItems': 3,\n",
       "   'items': {'type': 'number'}},\n",
       "  'Data_Set_Row_Structure': {'type': 'array',\n",
       "   'minItems': 1,\n",
       "   'maxItems': 7,\n",
       "   'items': {'type': 'string',\n",
       "    'enum': ['Theta',\n",
       "     'Phi',\n",
       "     'MagAttenuationTP',\n",
       "     'MagAttenuationCo',\n",
       "     'MagAttenuationCr',\n",
       "     'PhaseCo',\n",
       "     'PhaseCr']}},\n",
       "  'Data_Set': {'type': 'array',\n",
       "   'items': {'type': 'array',\n",
       "    'minItems': 1,\n",
       "    'maxItems': 7,\n",
       "    'items': {'type': 'number'}}}},\n",
       " 'required': ['BASTA_AA_WP_version',\n",
       "  'Supplier',\n",
       "  'Antenna_Model',\n",
       "  'Antenna_Type',\n",
       "  'Revision_Version',\n",
       "  'Released_Date',\n",
       "  'Coordinate_System',\n",
       "  'Pattern_Name',\n",
       "  'Beam_ID',\n",
       "  'Pattern_Type',\n",
       "  'Frequency',\n",
       "  'Frequency_Range',\n",
       "  'EIRP',\n",
       "  'Configured_Output_Power',\n",
       "  'Gain',\n",
       "  'Configuration',\n",
       "  'RF_Port',\n",
       "  'Array_ID',\n",
       "  'Array_Position',\n",
       "  'Phi_HPBW',\n",
       "  'Theta_HPBW',\n",
       "  'Front_to_Back',\n",
       "  'Phi_Electrical_Pan',\n",
       "  'Theta_Electrical_Tilt',\n",
       "  'Nominal_Polarization',\n",
       "  'Theta_Sampling',\n",
       "  'Phi_Sampling',\n",
       "  'Data_Set_Row_Structure',\n",
       "  'Data_Set']}"
      ]
     },
     "execution_count": 17,
     "metadata": {},
     "output_type": "execute_result"
    }
   ],
   "source": [
    "NGMNSchema.schema_content"
   ]
  },
  {
   "cell_type": "markdown",
   "id": "934048e9",
   "metadata": {},
   "source": [
    "The schema is used to validate the datatypes within the JSON antenna pattern files. We can validate a JSON file with the *AntennaPattern(data_path, validate=True)*.\n",
    "\n",
    "Note: The validation process is resource intesive and is not done by default. It is suggested to just use to sanity check data."
   ]
  },
  {
   "cell_type": "code",
   "execution_count": null,
   "id": "f2926849",
   "metadata": {},
   "outputs": [],
   "source": [
    "AntennaPattern(SAMPLE_JSON[0], validate=True)\n",
    "AntennaPattern(SAMPLE_JSON[1])  # Validation is false and quicker"
   ]
  }
 ],
 "metadata": {
  "kernelspec": {
   "display_name": "eas-3d-pattern-GaKWT4X0-py3.13",
   "language": "python",
   "name": "python3"
  },
  "language_info": {
   "codemirror_mode": {
    "name": "ipython",
    "version": 3
   },
   "file_extension": ".py",
   "mimetype": "text/x-python",
   "name": "python",
   "nbconvert_exporter": "python",
   "pygments_lexer": "ipython3",
   "version": "3.13.3"
  }
 },
 "nbformat": 4,
 "nbformat_minor": 5
}
