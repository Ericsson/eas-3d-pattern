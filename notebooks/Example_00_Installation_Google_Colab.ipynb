{
 "cells": [
  {
   "cell_type": "markdown",
   "id": "9cac747a",
   "metadata": {},
   "source": [
    "### Make a new notebook in [google colab](https://colab.google/) and install the package form pip"
   ]
  },
  {
   "cell_type": "code",
   "execution_count": null,
   "id": "fd268f91",
   "metadata": {},
   "outputs": [],
   "source": [
    "!{sys.executable} -m pip install eas-3d-pattern"
   ]
  },
  {
   "cell_type": "markdown",
   "id": "51c9debe",
   "metadata": {},
   "source": [
    "Check if you can import the package"
   ]
  },
  {
   "cell_type": "code",
   "execution_count": null,
   "id": "41356aa6",
   "metadata": {},
   "outputs": [],
   "source": [
    "import logging\n",
    "\n",
    "import eas_3d_pattern\n",
    "\n",
    "lib_logger = logging.getLogger(\"eas_3d_pattern\")\n",
    "lib_logger.setLevel(logging.ERROR)  # set to ERROR to suppress WARNINGS in google colab\n",
    "eas_3d_pattern"
   ]
  },
  {
   "cell_type": "markdown",
   "id": "08c9fc5a",
   "metadata": {},
   "source": [
    "Note: If you want do to install in developer mode, please clone the repository and use *poetry install --with-dev*"
   ]
  }
 ],
 "metadata": {
  "language_info": {
   "name": "python"
  }
 },
 "nbformat": 4,
 "nbformat_minor": 5
}
