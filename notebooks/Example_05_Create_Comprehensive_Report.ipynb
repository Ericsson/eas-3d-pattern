{
 "cells": [
  {
   "cell_type": "markdown",
   "id": "0d57c693",
   "metadata": {},
   "source": [
    "### Generate an excel report and optionally pattern pictures"
   ]
  },
  {
   "cell_type": "markdown",
   "id": "d2cb2aa6",
   "metadata": {},
   "source": [
    "This notebook is a great example for beginners that demonstrates how to generate valuable information from 3D antenna pattern files."
   ]
  },
  {
   "cell_type": "markdown",
   "id": "9c6fffa6",
   "metadata": {},
   "source": [
    "Option 1: Work in Google Colab\n",
    "\n",
    "Steps:\n",
    "- Spin up a new notebook in Google Colab https://colab.google/ (requires a google account)\n",
    "- Install eas_3d_pattern package for the session with *pip install eas-3d-pattern*\n",
    "- Upload the antenna pattern JSON files to the session directory or mount your own drive with the files in it\n",
    "- Run the function \"generate_report_eas\" with argument inputs\n",
    "    - *input_directory* (directory with all JSON files)\n",
    "    - *output_directory* (for excel report and optionally with png plots)\n",
    "    - *plot* (optionally, outputs png for each file) \n",
    "    - *subbands* (optionally, aggregates over given frequency ranges for the excel report)\n",
    "- Check the output in the output directory and save it locally if needed"
   ]
  },
  {
   "cell_type": "code",
   "execution_count": 1,
   "id": "44b3e0c1",
   "metadata": {},
   "outputs": [],
   "source": [
    "from eas_3d_pattern import generate_report_eas"
   ]
  },
  {
   "cell_type": "code",
   "execution_count": 2,
   "id": "ae1d5f4c",
   "metadata": {},
   "outputs": [],
   "source": [
    "input_dir = \"/content/json_files_directory\"\n",
    "output_dir = \"/content/output_directory\""
   ]
  },
  {
   "cell_type": "code",
   "execution_count": null,
   "id": "e635f45f",
   "metadata": {},
   "outputs": [],
   "source": [
    "generate_report_eas(input_dir, output_dir, plot=False)"
   ]
  },
  {
   "cell_type": "markdown",
   "id": "3ac790d4",
   "metadata": {},
   "source": [
    "We can also generate with the plots. These plots will be saved in \"png\" format to the output_directory.\n",
    "\n",
    "Please note plotting many files can take quiet long."
   ]
  },
  {
   "cell_type": "code",
   "execution_count": null,
   "id": "687c887c",
   "metadata": {},
   "outputs": [],
   "source": [
    "generate_report_eas(input_dir, output_dir, plot=True)"
   ]
  },
  {
   "cell_type": "markdown",
   "id": "9196dc2d",
   "metadata": {},
   "source": [
    "We can also supply individual subbands to see the different aggregations in the excel report.\n",
    "\n",
    "The subband is expected to be a dictionary with a string as key (unique identifier to aggregate) and tuple as value (bottom_frequency, top_frequency)."
   ]
  },
  {
   "cell_type": "code",
   "execution_count": null,
   "id": "28be6d40",
   "metadata": {},
   "outputs": [],
   "source": [
    "my_own_subbands = {\n",
    "    \"Carrier1\": (730, 750),  # 730 to 750 MHz\n",
    "    \"Carrier2\": (810, 830),\n",
    "    \"Carrier3\": (1710, 1730),\n",
    "}\n",
    "generate_report_eas(input_dir, output_dir, plot=False, subbands=my_own_subbands)"
   ]
  },
  {
   "cell_type": "code",
   "execution_count": null,
   "id": "1888d478",
   "metadata": {},
   "outputs": [],
   "source": []
  },
  {
   "cell_type": "markdown",
   "id": "78f300d5",
   "metadata": {},
   "source": [
    "Option 2: Work locally\n",
    "\n",
    "Steps:\n",
    "- Spin up a new virtual environment\n",
    "- Install eas_3d_pattern package with *pip install eas-3d-pattern*\n",
    "- Put all JSON files for reporting in a local directory\n",
    "- Run the function \"generate_report_eas\" with argument inputs\n",
    "    - *input_directory* (directory with all JSON files)\n",
    "    - *output_directory* (for excel report and optionally with png plots)\n",
    "    - *plot* (optionally, outputs png for each file) \n",
    "    - *subbands* (optionally, aggregates over given frequency ranges for the excel report)\n",
    "- Check the output in the output director - rename files if necessary"
   ]
  },
  {
   "cell_type": "code",
   "execution_count": null,
   "id": "668383b3",
   "metadata": {},
   "outputs": [],
   "source": [
    "from eas_3d_pattern import generate_report_eas"
   ]
  },
  {
   "cell_type": "code",
   "execution_count": null,
   "id": "7affcba6",
   "metadata": {},
   "outputs": [],
   "source": [
    "input_dir = r\"C:/Users/whoami/json_files_directory\"  # Windows path\n",
    "output_dir = r\"C:/Users/whoami/json_files_directory\"\n",
    "df = generate_report_eas(input_dir, output_dir, plot=False)"
   ]
  }
 ],
 "metadata": {
  "kernelspec": {
   "display_name": "eas-3d-pattern-GaKWT4X0-py3.13",
   "language": "python",
   "name": "python3"
  },
  "language_info": {
   "codemirror_mode": {
    "name": "ipython",
    "version": 3
   },
   "file_extension": ".py",
   "mimetype": "text/x-python",
   "name": "python",
   "nbconvert_exporter": "python",
   "pygments_lexer": "ipython3",
   "version": "3.13.3"
  }
 },
 "nbformat": 4,
 "nbformat_minor": 5
}
