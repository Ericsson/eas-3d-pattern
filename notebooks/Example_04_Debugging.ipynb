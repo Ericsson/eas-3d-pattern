{
 "cells": [
  {
   "cell_type": "markdown",
   "id": "89fc8adc",
   "metadata": {},
   "source": [
    "### Debugging by setting the logger level"
   ]
  },
  {
   "cell_type": "code",
   "execution_count": null,
   "id": "985f0794",
   "metadata": {},
   "outputs": [],
   "source": [
    "import logging\n",
    "\n",
    "from eas_3d_pattern import SAMPLE_JSON, AntennaPattern\n",
    "\n",
    "ROOT_LOG_LEVEL = logging.INFO  # set logging level to info\n",
    "logging.basicConfig(\n",
    "    level=ROOT_LOG_LEVEL,\n",
    "    format=\"[%(levelname)s] %(asctime)s - %(name)s: %(message)s\",\n",
    "    datefmt=\"%Y-%m-%d %H:%M:%S\",\n",
    ")"
   ]
  },
  {
   "cell_type": "code",
   "execution_count": 8,
   "id": "7fb27b941602401d91542211134fc71a",
   "metadata": {},
   "outputs": [
    {
     "name": "stderr",
     "output_type": "stream",
     "text": [
      "[WARNING] 2025-06-16 12:00:04 - eas_3d_pattern.parser: AntennaPattern: Coordinate system SPCS_CW not used for calculations. Transforming 'Pattern_3D' attribute to SPCS_Ericsson.\n"
     ]
    }
   ],
   "source": [
    "antenna_pattern = AntennaPattern(SAMPLE_JSON[2])"
   ]
  },
  {
   "cell_type": "code",
   "execution_count": 9,
   "id": "4ab73bac",
   "metadata": {},
   "outputs": [
    {
     "name": "stderr",
     "output_type": "stream",
     "text": [
      "[WARNING] 2025-06-16 12:00:04 - eas_3d_pattern.parser: AntennaPattern: SectorDefinition is not defined. Taking default settings for beam efficiency calculation.\n"
     ]
    },
    {
     "data": {
      "text/plain": [
       "{'Cell': 0.7299576611340302,\n",
       " 'Int1': 0.06328372416549503,\n",
       " 'Int2': 0.06322207683325005,\n",
       " 'Int3': 0.1094309953021251,\n",
       " 'EMF': 5.8186354524159285e-05,\n",
       " 'Wasted': 0.0340473562105757}"
      ]
     },
     "execution_count": 9,
     "metadata": {},
     "output_type": "execute_result"
    }
   ],
   "source": [
    "antenna_pattern.calculate_beam_efficiency()"
   ]
  }
 ],
 "metadata": {
  "kernelspec": {
   "display_name": "eas-3d-pattern-GaKWT4X0-py3.13",
   "language": "python",
   "name": "python3"
  },
  "language_info": {
   "codemirror_mode": {
    "name": "ipython",
    "version": 3
   },
   "file_extension": ".py",
   "mimetype": "text/x-python",
   "name": "python",
   "nbconvert_exporter": "python",
   "pygments_lexer": "ipython3",
   "version": "3.13.3"
  }
 },
 "nbformat": 4,
 "nbformat_minor": 5
}
